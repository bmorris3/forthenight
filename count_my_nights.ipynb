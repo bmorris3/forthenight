{
 "cells": [
  {
   "cell_type": "markdown",
   "metadata": {},
   "source": [
    "# How many half nights have I observed?"
   ]
  },
  {
   "cell_type": "code",
   "execution_count": 140,
   "metadata": {
    "collapsed": false
   },
   "outputs": [],
   "source": [
    "from bs4 import BeautifulSoup\n",
    "from astropy.utils.data import download_file\n",
    "import numpy as np\n",
    "\n",
    "# Put the range years you'd like to include in the search\n",
    "include_years = np.arange(2013, 2018)\n",
    "\n",
    "# Put the first four letters of your last name \n",
    "# (and hope that they're unique at your institution)\n",
    "observer_name = \"Morr\""
   ]
  },
  {
   "cell_type": "code",
   "execution_count": 73,
   "metadata": {
    "collapsed": false
   },
   "outputs": [],
   "source": [
    "text = download_file(\"http://www.apo.nmsu.edu/Planning/obs.calendar/obs.calendar.html\", \n",
    "                     cache=False, show_progress=False)\n",
    "soup = BeautifulSoup(open(text).read(), 'html.parser')\n",
    "\n",
    "list_links = soup.body.findAll(\"a\")\n",
    "\n",
    "quarterly_links = []\n",
    "\n",
    "for link in list_links:\n",
    "    for year in include_years:\n",
    "        url_root = \"http://35m-schedule.apo.nmsu.edu/{0:04d}Q\".format(year)\n",
    "        if ('href' in link.attrs) and (url_root in link.get('href')): \n",
    "            quarterly_links.append(link.get('href'))"
   ]
  },
  {
   "cell_type": "markdown",
   "metadata": {},
   "source": [
    "This part will take a few minutes to download all of the webpages: "
   ]
  },
  {
   "cell_type": "code",
   "execution_count": 138,
   "metadata": {
    "collapsed": false
   },
   "outputs": [],
   "source": [
    "my_programs = dict()\n",
    "\n",
    "for quarterly_link in quarterly_links:\n",
    "    p = download_file(quarterly_link, cache=False, show_progress=False)\n",
    "    soup = BeautifulSoup(open(p).read(), 'html.parser')\n",
    "\n",
    "    base_link = soup.head.base.get('href')\n",
    "\n",
    "    uw_links = [link.get('href') for link in soup.body.findAll('a') \n",
    "                if (('href' in link.attrs) and link.get('href').startswith('programs/UW'))]\n",
    "\n",
    "    uw_links = list(map(lambda x: \"{0}{1}\".format(base_link, x), uw_links))\n",
    "\n",
    "    for uw_link in uw_links: \n",
    "        p = download_file(uw_link, cache=False, show_progress=False)\n",
    "        soup = BeautifulSoup(open(p).read(), 'html.parser')\n",
    "        observed = observer_name in soup.body.text\n",
    "        \n",
    "        if observed: \n",
    "            program_id = soup.title.text\n",
    "            quarter_id = soup.body.p.a.get('href').split('/')[-1][:6]\n",
    "            n_nights = len([link.get('href') for link in soup.body.find_all('a') \n",
    "                            if 'days' in link.get('href')])\n",
    "            my_programs['{0}_{1}'.format(quarter_id, program_id)] = n_nights"
   ]
  },
  {
   "cell_type": "code",
   "execution_count": 139,
   "metadata": {
    "collapsed": false
   },
   "outputs": [
    {
     "name": "stdout",
     "output_type": "stream",
     "text": [
      "Total half nights: 64\n"
     ]
    }
   ],
   "source": [
    "print(\"Total half nights:\", sum(my_programs.values()))"
   ]
  },
  {
   "cell_type": "code",
   "execution_count": null,
   "metadata": {
    "collapsed": true
   },
   "outputs": [],
   "source": []
  }
 ],
 "metadata": {
  "kernelspec": {
   "display_name": "Python 3",
   "language": "python",
   "name": "python3"
  },
  "language_info": {
   "codemirror_mode": {
    "name": "ipython",
    "version": 3
   },
   "file_extension": ".py",
   "mimetype": "text/x-python",
   "name": "python",
   "nbconvert_exporter": "python",
   "pygments_lexer": "ipython3",
   "version": "3.5.2"
  }
 },
 "nbformat": 4,
 "nbformat_minor": 0
}
